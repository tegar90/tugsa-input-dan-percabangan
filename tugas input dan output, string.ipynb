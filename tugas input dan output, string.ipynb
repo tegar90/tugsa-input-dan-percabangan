{
 "cells": [
  {
   "cell_type": "code",
   "execution_count": 6,
   "id": "c88d6db5",
   "metadata": {},
   "outputs": [
    {
     "name": "stdout",
     "output_type": "stream",
     "text": [
      "Isikan nama anda: tegar maulana\n",
      "Isikan tanggal lahir (dd/mm/yyyy): 29/05/2005\n",
      "Isikan nim: 20230040336\n",
      "Isikan kelas: ti23e\n",
      "isikan alamat:jl.cijangkar\n",
      "Nama Awal: tegar\n",
      "Nama Akhir: maulana\n",
      "NIM: 20230040336\n",
      "Kelas: ti23e\n",
      "alamat: jl.cijangkar\n",
      "Bulan lahir: Mei\n",
      "Tanggal lahir: 29\n",
      "Tahun lahir: 2005\n"
     ]
    }
   ],
   "source": [
    "nama = input('Isikan nama anda: ')\n",
    "tanggal = input('Isikan tanggal lahir (dd/mm/yyyy): ')\n",
    "nim = input('Isikan nim: ')\n",
    "kelas = input('Isikan kelas: ')\n",
    "alamat = input('isikan alamat:')\n",
    "\n",
    "list_biodata = nama.split()\n",
    "print(\"Nama Awal:\", list_biodata[0])\n",
    "print(\"Nama Akhir:\", list_biodata[-1])\n",
    "print(\"NIM:\", nim)\n",
    "print(\"Kelas:\", kelas)\n",
    "print(\"alamat:\", alamat)\n",
    "\n",
    "list_tanggal = tanggal.split(\"/\")\n",
    "if list_tanggal[1] == \"01\":\n",
    "    keterangan = \"Januari\"\n",
    "elif list_tanggal[1] == \"02\":\n",
    "    keterangan = \"Februari\"\n",
    "elif list_tanggal[1] == \"03\":\n",
    "    keterangan = \"Maret\"\n",
    "elif list_tanggal[1] == \"04\":\n",
    "    keterangan = \"April\"\n",
    "elif list_tanggal[1] == \"05\":\n",
    "    keterangan = \"Mei\"\n",
    "elif list_tanggal[1] == \"06\":\n",
    "    keterangan = \"Juni\"\n",
    "elif list_tanggal[1] == \"07\":\n",
    "    keterangan = \"Juli\"\n",
    "elif list_tanggal[1] == \"08\":\n",
    "    keterangan = \"Agustus\"\n",
    "elif list_tanggal[1] == \"09\":\n",
    "    keterangan = \"September\"\n",
    "elif list_tanggal[1] == \"10\":\n",
    "    keterangan = \"Oktober\"\n",
    "elif list_tanggal[1] == \"11\":\n",
    "    keterangan = \"November\"\n",
    "elif list_tanggal[1] == \"12\":\n",
    "    keterangan = \"Desember\"\n",
    "\n",
    "print(\"Bulan lahir:\", keterangan)\n",
    "print(\"Tanggal lahir:\", list_tanggal[0])\n",
    "print(\"Tahun lahir:\", list_tanggal[2])"
   ]
  },
  {
   "cell_type": "code",
   "execution_count": 11,
   "id": "fa526769",
   "metadata": {},
   "outputs": [
    {
     "name": "stdout",
     "output_type": "stream",
     "text": [
      "putra nusa \n",
      "niversitas nsa ptra skabmi\n",
      "sukabumi putra nusa universitas \n",
      "unps\n",
      "('tas ', 'sa pu', 'bumi')\n"
     ]
    }
   ],
   "source": [
    "kampus = \"universitas nusa putra sukabumi\"\n",
    "#a\n",
    "input_1 = kampus[17:23] + kampus[12:17]\n",
    "print(input_1)\n",
    "#b\n",
    "input_2 = kampus[1:12] + kampus[12:17]\n",
    "input_2 = kampus.replace(\"u\",\"\")\n",
    "print(input_2)\n",
    "#c\n",
    "input_3 = kampus[23:32] + \" \" +  kampus[17:23] + kampus[12:17] + kampus[0:12]\n",
    "print(input_3)\n",
    "#d\n",
    "input_4= kampus[0:1] + kampus[12:13] + kampus[17:18] + kampus[23:24]\n",
    "print(input_4)\n",
    "#e\n",
    "input_5= kampus[8:12] , kampus[14:19] ,kampus [27:31]\n",
    "print(input_5)"
   ]
  },
  {
   "cell_type": "code",
   "execution_count": null,
   "id": "6aae1862",
   "metadata": {},
   "outputs": [],
   "source": []
  }
 ],
 "metadata": {
  "kernelspec": {
   "display_name": "Python 3 (ipykernel)",
   "language": "python",
   "name": "python3"
  },
  "language_info": {
   "codemirror_mode": {
    "name": "ipython",
    "version": 3
   },
   "file_extension": ".py",
   "mimetype": "text/x-python",
   "name": "python",
   "nbconvert_exporter": "python",
   "pygments_lexer": "ipython3",
   "version": "3.11.7"
  }
 },
 "nbformat": 4,
 "nbformat_minor": 5
}
