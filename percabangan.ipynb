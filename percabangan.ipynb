{
 "cells": [
  {
   "cell_type": "code",
   "execution_count": 1,
   "id": "3bf8dd25",
   "metadata": {},
   "outputs": [
    {
     "name": "stdout",
     "output_type": "stream",
     "text": [
      "masukan umur anda: 31\n",
      "masukan tinggi anda: 321\n",
      "Tarif Anda 80000\n"
     ]
    }
   ],
   "source": [
    "umur = int(input('masukan umur anda: '))\n",
    "tinggi = int(input('masukan tinggi anda: '))\n",
    "\n",
    "\n",
    "\n",
    "if umur <=2:\n",
    "   tarif = \"dilarang masuk\"\n",
    "elif umur <=4 and tinggi <70:\n",
    "    tarif = 30000\n",
    "elif umur <=4 and tinggi >70:\n",
    "    tarif =40000\n",
    "elif umur <=7 and tinggi <120:\n",
    "    tarif = 40000\n",
    "elif umur <=7 and tinggi >120:\n",
    "    tarif = 55000\n",
    "elif umur <=10 and tinggi <150:\n",
    "    tarif = 50000\n",
    "elif umur <=10 and tinggi >150:\n",
    "    tarif = 70000\n",
    "elif umur >10:\n",
    "    tarif = 80000\n",
    " \n",
    "print(\"Tarif Anda\" , tarif)"
   ]
  },
  {
   "cell_type": "code",
   "execution_count": null,
   "id": "a6b465da",
   "metadata": {},
   "outputs": [],
   "source": []
  }
 ],
 "metadata": {
  "kernelspec": {
   "display_name": "Python 3 (ipykernel)",
   "language": "python",
   "name": "python3"
  },
  "language_info": {
   "codemirror_mode": {
    "name": "ipython",
    "version": 3
   },
   "file_extension": ".py",
   "mimetype": "text/x-python",
   "name": "python",
   "nbconvert_exporter": "python",
   "pygments_lexer": "ipython3",
   "version": "3.11.7"
  }
 },
 "nbformat": 4,
 "nbformat_minor": 5
}
